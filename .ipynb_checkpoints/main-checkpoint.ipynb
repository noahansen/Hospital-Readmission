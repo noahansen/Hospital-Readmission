{
 "cells": [
  {
   "cell_type": "code",
   "execution_count": null,
   "metadata": {
    "scrolled": false
   },
   "outputs": [],
   "source": [
    "# project: p6\n",
    "# submitter: nphansen\n",
    "# partner: goschmitz\n",
    "\n",
    "import pandas as pd \n",
    "import numpy as np \n",
    "from zipfile import ZipFile\n"
   ]
  },
  {
   "cell_type": "code",
   "execution_count": null,
   "metadata": {
    "scrolled": true
   },
   "outputs": [],
   "source": [
    "with ZipFile(\"dataset_diabetes.zip\") as zf:\n",
    "    df = pd.read_csv('diabetic_data.csv') #?? should this be read straight from csv instead? \n",
    "\n",
    "ids = df.loc[:,:'patient_nbr'] \n",
    "ids\n",
    "    \n",
    "train_idx = list()\n",
    "test_idx = list()\n",
    "\n",
    "#is there a faster way to do this?\n",
    "for index, row in ids.iterrows():\n",
    "    combined_str = str(row['encounter_id']) + str(row['patient_nbr']) \n",
    "\n",
    "    digit_sum = 0\n",
    "    for x in combined_str:\n",
    "        digit_sum += int(x)\n",
    "    if digit_sum & 1:\n",
    "        test_idx.append(index)\n",
    "    else:\n",
    "        train_idx.append(index)\n",
    "\n",
    "test = df.iloc[test_idx]\n",
    "train = df.iloc[train_idx]"
   ]
  },
  {
   "cell_type": "code",
   "execution_count": null,
   "metadata": {},
   "outputs": [],
   "source": [
    "x = \"2673\"\n",
    "y = \"111\"\n",
    "x+y"
   ]
  },
  {
   "cell_type": "code",
   "execution_count": null,
   "metadata": {},
   "outputs": [],
   "source": [
    "#q1\n",
    "train.shape, test.shape"
   ]
  },
  {
   "cell_type": "code",
   "execution_count": null,
   "metadata": {},
   "outputs": [],
   "source": [
    "#q2\n",
    "(\n",
    "    train[\"time_in_hospital\"].mean(),\n",
    "    test[\"time_in_hospital\"].mean(),\n",
    "    train[\"time_in_hospital\"].std(), \n",
    "    test[\"time_in_hospital\"].std(),\n",
    ")"
   ]
  },
  {
   "cell_type": "code",
   "execution_count": null,
   "metadata": {},
   "outputs": [],
   "source": [
    "#q3\n",
    "{\n",
    "    \"train\": dict(train[\"readmitted\"].value_counts()),\n",
    "    \"test\": dict(test[\"readmitted\"].value_counts()),\n",
    "}"
   ]
  },
  {
   "cell_type": "code",
   "execution_count": null,
   "metadata": {},
   "outputs": [],
   "source": [
    "df.head()"
   ]
  },
  {
   "cell_type": "code",
   "execution_count": null,
   "metadata": {},
   "outputs": [],
   "source": [
    "#q4\n",
    "cols = df.columns\n",
    "\n",
    "for col in cols:\n",
    "    percents = df[col].value_counts(normalize=True)\n",
    "    if '?' in percents:\n",
    "        missing[col] = percents['?']\n",
    "\n",
    "missing"
   ]
  },
  {
   "cell_type": "code",
   "execution_count": null,
   "metadata": {},
   "outputs": [],
   "source": [
    "#q5"
   ]
  },
  {
   "cell_type": "code",
   "execution_count": null,
   "metadata": {},
   "outputs": [],
   "source": [
    "#q6"
   ]
  },
  {
   "cell_type": "code",
   "execution_count": null,
   "metadata": {},
   "outputs": [],
   "source": [
    "#q7"
   ]
  },
  {
   "cell_type": "code",
   "execution_count": null,
   "metadata": {},
   "outputs": [],
   "source": [
    "#q8"
   ]
  }
 ],
 "metadata": {
  "kernelspec": {
   "display_name": "Python 3.6.9 64-bit",
   "language": "python",
   "name": "python36964bit4f43e70708184a919b4dfe05f5d098fe"
  },
  "language_info": {
   "codemirror_mode": {
    "name": "ipython",
    "version": 3
   },
   "file_extension": ".py",
   "mimetype": "text/x-python",
   "name": "python",
   "nbconvert_exporter": "python",
   "pygments_lexer": "ipython3",
   "version": "3.6.9"
  }
 },
 "nbformat": 4,
 "nbformat_minor": 2
}
